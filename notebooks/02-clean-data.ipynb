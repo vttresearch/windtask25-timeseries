{
 "cells": [
  {
   "cell_type": "code",
   "execution_count": 1,
   "metadata": {},
   "outputs": [],
   "source": [
    "import pandas as pd\n",
    "\n",
    "from const import TZ, START, END, MIN_TIMESTEP, GEN_TYPES"
   ]
  },
  {
   "cell_type": "markdown",
   "metadata": {},
   "source": [
    "Define a function to fill in the gaps in the data."
   ]
  },
  {
   "cell_type": "code",
   "execution_count": 2,
   "metadata": {},
   "outputs": [],
   "source": [
    "def expand_to_full_length(ts: pd.Series) -> pd.Series:\n",
    "    \"\"\"Reindex a time series to the full length and fill in gaps \n",
    "    \"\"\"\n",
    "    ts_ = ts.dropna()  # Drop missing values\n",
    "    if not len(ts_):\n",
    "        return ts\n",
    "    freq = ts_.index[1] - ts_.index[0]  # Infer the frequency\n",
    "    assert freq >= pd.Timedelta(MIN_TIMESTEP)  # Check we got something reasonable\n",
    "    # make the full time index and reindex\n",
    "    time_idx = pd.date_range(START, END, tz=TZ, freq=freq, closed='left')\n",
    "    return ts_.reindex(time_idx).interpolate(method='time')"
   ]
  },
  {
   "cell_type": "markdown",
   "metadata": {},
   "source": [
    "Fill in the gaps in teh raw data by interpolating."
   ]
  },
  {
   "cell_type": "code",
   "execution_count": 3,
   "metadata": {},
   "outputs": [],
   "source": [
    "for tech in GEN_TYPES:\n",
    "    wind_gen_raw = pd.read_csv(f\"../data/raw/ENTSO-E_TP_generation_{tech}.csv\", \n",
    "                                      index_col=0, parse_dates=True)    \n",
    "    wind_gen_clean = wind_gen_raw.apply(expand_to_full_length)\n",
    "\n",
    "    # Write to file\n",
    "    filename = f'../data/intermediate/Generation {tech}.csv'\n",
    "    wind_gen_clean.to_csv(filename, header=True)"
   ]
  }
 ],
 "metadata": {
  "kernelspec": {
   "display_name": "Python [conda env:spyder]",
   "language": "python",
   "name": "conda-env-spyder-py"
  },
  "language_info": {
   "codemirror_mode": {
    "name": "ipython",
    "version": 3
   },
   "file_extension": ".py",
   "mimetype": "text/x-python",
   "name": "python",
   "nbconvert_exporter": "python",
   "pygments_lexer": "ipython3",
   "version": "3.7.3"
  }
 },
 "nbformat": 4,
 "nbformat_minor": 4
}
