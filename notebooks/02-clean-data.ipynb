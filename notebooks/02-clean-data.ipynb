{
 "cells": [
  {
   "cell_type": "code",
   "execution_count": 1,
   "metadata": {},
   "outputs": [],
   "source": [
    "import pandas as pd\n",
    "\n",
    "from const import TZ, START, END, MIN_TIMESTEP, GEN_TYPES\n",
    "\n",
    "MAX_GAP_TO_FILL = 4 "
   ]
  },
  {
   "cell_type": "markdown",
   "metadata": {},
   "source": [
    "Define a function to fill in the gaps in the data."
   ]
  },
  {
   "cell_type": "code",
   "execution_count": 2,
   "metadata": {},
   "outputs": [],
   "source": [
    "def expand_to_full_length(ts: pd.Series, coverage: pd.DataFrame, max_gap: int = MAX_GAP_TO_FILL) -> pd.Series:\n",
    "    \"\"\"Reindex a time series to the full length and fill in gaps \n",
    "    \n",
    "    Args:\n",
    "        ts: Time series to process\n",
    "        max_gap: Maximum length of gap to fill (time steps)\n",
    "        coverage: Data frame for coverage statistics\n",
    "    \"\"\"\n",
    "    ts_ = ts.dropna()  # Drop missing values\n",
    "    if not len(ts_):\n",
    "        return ts\n",
    "    freq = ts_.index[1] - ts_.index[0]  # Infer the frequency\n",
    "    assert freq >= pd.Timedelta(MIN_TIMESTEP)  # Check we got something reasonable\n",
    "    # make the full time index and reindex\n",
    "    time_idx = pd.date_range(START, END, tz=TZ, freq=freq, closed='left')\n",
    "    reindexed = ts_.reindex(time_idx)\n",
    "    coverage.loc[ts.name, 'length'] = len(reindexed)\n",
    "    if reindexed.isna().sum():\n",
    "        print(f\"Filling gaps for {ts.name}. . .\")\n",
    "        coverage.loc[ts.name, 'original'] = 1 - reindexed.isna().sum() / len(reindexed)\n",
    "        interpolated = reindexed.interpolate(method='time', limit_area='inside', \n",
    "                                             limit=max_gap\n",
    "                                            )\n",
    "        coverage.loc[ts.name, 'interpolated'] = 1 - interpolated.isna().sum() / len(interpolated)\n",
    "        coverage.loc[ts.name, 'missing'] = interpolated.isna().sum()\n",
    "        return interpolated\n",
    "    else:\n",
    "        coverage.loc[ts.name, 'original'] = 1\n",
    "        return reindexed"
   ]
  },
  {
   "cell_type": "markdown",
   "metadata": {},
   "source": [
    "Fill in the gaps in the raw generation data by interpolating."
   ]
  },
  {
   "cell_type": "code",
   "execution_count": 3,
   "metadata": {},
   "outputs": [
    {
     "name": "stdout",
     "output_type": "stream",
     "text": [
      "Filling gaps for ES. . .\n",
      "Filling gaps for FR. . .\n",
      "Filling gaps for GB. . .\n",
      "Filling gaps for IT. . .\n",
      "Filling gaps for NL. . .\n",
      "Wrote ../data/intermediate/Generation Solar.csv\n",
      "Filling gaps for ES. . .\n",
      "Filling gaps for FI. . .\n",
      "Filling gaps for FR. . .\n",
      "Filling gaps for GB. . .\n",
      "Filling gaps for IE. . .\n",
      "Filling gaps for IT. . .\n",
      "Filling gaps for NL. . .\n",
      "Filling gaps for NO. . .\n",
      "Filling gaps for SE. . .\n",
      "Wrote ../data/intermediate/Generation Wind Onshore.csv\n",
      "Filling gaps for ES. . .\n",
      "Filling gaps for GB. . .\n",
      "Filling gaps for NL. . .\n",
      "Wrote ../data/intermediate/Generation Wind Offshore.csv\n"
     ]
    }
   ],
   "source": [
    "for tech in GEN_TYPES:\n",
    "    gen_raw = pd.read_csv(f\"../data/raw/ENTSO-E_TP_generation_{tech}.csv\", \n",
    "                          index_col=0, parse_dates=True)\n",
    "    coverage = pd.DataFrame()\n",
    "    gen_clean = gen_raw.apply(expand_to_full_length, coverage=coverage, max_gap=4)\n",
    "    \n",
    "    # Write to file\n",
    "    filename = f'../data/intermediate/Generation {tech}.csv'\n",
    "    gen_clean.to_csv(filename, header=True)\n",
    "    print(f'Wrote {filename}')\n",
    "    coverage.to_csv(f'../data/intermediate/Coverage {tech}.csv')"
   ]
  },
  {
   "cell_type": "markdown",
   "metadata": {},
   "source": [
    "Fill in gaps in the raw load data by interpolating."
   ]
  },
  {
   "cell_type": "code",
   "execution_count": 6,
   "metadata": {},
   "outputs": [
    {
     "name": "stdout",
     "output_type": "stream",
     "text": [
      "Filling gaps for DE. . .\n",
      "Filling gaps for ES. . .\n",
      "Filling gaps for FI. . .\n",
      "Filling gaps for FR. . .\n",
      "Filling gaps for GB. . .\n",
      "Filling gaps for IE. . .\n",
      "Filling gaps for NO. . .\n",
      "Wrote ../data/intermediate/Load.csv\n"
     ]
    }
   ],
   "source": [
    "coverage = pd.DataFrame()\n",
    "load_raw = pd.read_csv(f\"../data/raw/ENTSO-E_TP_load.csv\", \n",
    "                      index_col=0, parse_dates=True)    \n",
    "load_clean = load_raw.apply(expand_to_full_length, coverage=coverage, max_gap=4)\n",
    "\n",
    "# Write to file\n",
    "filename = '../data/intermediate/Load.csv'\n",
    "load_clean.to_csv(filename, header=True)\n",
    "print(f'Wrote {filename}')\n",
    "coverage.to_csv('../data/intermediate/Coverage Load.csv')"
   ]
  },
  {
   "cell_type": "code",
   "execution_count": null,
   "metadata": {},
   "outputs": [],
   "source": []
  }
 ],
 "metadata": {
  "kernelspec": {
   "display_name": "Python [conda env:windtask25-timeseries]",
   "language": "python",
   "name": "conda-env-windtask25-timeseries-py"
  },
  "language_info": {
   "codemirror_mode": {
    "name": "ipython",
    "version": 3
   },
   "file_extension": ".py",
   "mimetype": "text/x-python",
   "name": "python",
   "nbconvert_exporter": "python",
   "pygments_lexer": "ipython3",
   "version": "3.8.1"
  }
 },
 "nbformat": 4,
 "nbformat_minor": 4
}
