{
 "cells": [
  {
   "cell_type": "code",
   "execution_count": 109,
   "metadata": {},
   "outputs": [
    {
     "name": "stdout",
     "output_type": "stream",
     "text": [
      "The autoreload extension is already loaded. To reload it, use:\n",
      "  %reload_ext autoreload\n"
     ]
    }
   ],
   "source": [
    "%load_ext autoreload"
   ]
  },
  {
   "cell_type": "code",
   "execution_count": 110,
   "metadata": {},
   "outputs": [],
   "source": [
    "from datetime import date\n",
    "from glob import glob\n",
    "\n",
    "import pandas as pd\n",
    "from numpy import NaN"
   ]
  },
  {
   "cell_type": "code",
   "execution_count": 111,
   "metadata": {},
   "outputs": [],
   "source": [
    "%autoreload 2\n",
    "\n",
    "from src.misc import get_country_alpha2"
   ]
  },
  {
   "cell_type": "code",
   "execution_count": 112,
   "metadata": {},
   "outputs": [],
   "source": [
    "# Get definitions\n",
    "%run \"00-definitions.ipynb\""
   ]
  },
  {
   "cell_type": "markdown",
   "metadata": {},
   "source": [
    "## Interpolate installed capacity within the years"
   ]
  },
  {
   "cell_type": "markdown",
   "metadata": {},
   "source": [
    "Expand the capacity data to the whole year and interpolate for each day."
   ]
  },
  {
   "cell_type": "code",
   "execution_count": 113,
   "metadata": {},
   "outputs": [],
   "source": [
    "# Create daily index for the whole period\n",
    "start_date = pd.to_datetime(START.split()[0])\n",
    "end_date = pd.to_datetime(END.split()[0])\n",
    "time_idx = pd.date_range(\n",
    "    start_date - pd.Timedelta('1 day'), \n",
    "    end_date, \n",
    "    freq='D'\n",
    ")"
   ]
  },
  {
   "cell_type": "code",
   "execution_count": 114,
   "metadata": {},
   "outputs": [],
   "source": [
    "df = pd.read_csv('../data/intermediate/Installed_cap.csv',\n",
    "                 index_col=0, header=[0,1], parse_dates=True)\n",
    "installed_capacity = df.reindex(time_idx).interpolate()"
   ]
  },
  {
   "cell_type": "markdown",
   "metadata": {},
   "source": [
    "Get only ENTSO-E values as well:"
   ]
  },
  {
   "cell_type": "code",
   "execution_count": 115,
   "metadata": {},
   "outputs": [],
   "source": [
    "df = pd.read_csv('../data/intermediate/Installed_cap_ENTSO-E_TP.csv',\n",
    "                 index_col=0, header=[0,1], parse_dates=True)\n",
    "installed_capacity_entsoe = df.reindex(time_idx).interpolate()"
   ]
  },
  {
   "cell_type": "markdown",
   "metadata": {},
   "source": [
    "Get only ENTSO-E values as well:"
   ]
  },
  {
   "cell_type": "code",
   "execution_count": 116,
   "metadata": {},
   "outputs": [],
   "source": [
    "df = pd.read_csv('../data/intermediate/Eurostat_installed_cap.csv',\n",
    "                 index_col=0, header=[0,1], parse_dates=True)\n",
    "installed_capacity_eurostat = df.reindex(time_idx).interpolate()"
   ]
  },
  {
   "cell_type": "markdown",
   "metadata": {},
   "source": [
    "Example plot"
   ]
  },
  {
   "cell_type": "code",
   "execution_count": 117,
   "metadata": {},
   "outputs": [
    {
     "data": {
      "image/png": "[encoded data removed]",
      "text/plain": [
       "<Figure size 432x288 with 1 Axes>"
      ]
     },
     "metadata": {
      "needs_background": "light"
     },
     "output_type": "display_data"
    }
   ],
   "source": [
    "ax = installed_capacity['Wind Onshore'].div(1e3).plot()\n",
    "ax.set_title(\"Installed onshore wind generation capacity (GW)\");\n",
    "ax.legend(loc='best', ncol=2);"
   ]
  },
  {
   "cell_type": "markdown",
   "metadata": {},
   "source": [
    "## Calculation of capacity factors"
   ]
  },
  {
   "cell_type": "markdown",
   "metadata": {},
   "source": [
    "Calculate capacity factors for each technology based on the interpolated installed capacity on that day."
   ]
  },
  {
   "cell_type": "code",
   "execution_count": 118,
   "metadata": {},
   "outputs": [],
   "source": [
    "def calc_cf(category: str, technology: str, installed_capacity: pd.DataFrame):\n",
    "    src_filepath = f'../data/intermediate/{category.capitalize()} {technology}.csv'\n",
    "    generation = pd.read_csv(src_filepath, \n",
    "                             index_col=0, parse_dates=True)\n",
    "    cf = pd.DataFrame(index=generation.index)\n",
    "    for cc in generation.columns:\n",
    "        gen = generation[cc].dropna()\n",
    "        try:\n",
    "            cap = pd.Series(installed_capacity[(tech, cc)], name='cap')\n",
    "        except KeyError:\n",
    "            continue\n",
    "        _df = pd.DataFrame({'gen': gen,\n",
    "                            'date': pd.DatetimeIndex(gen.index.date)\n",
    "                           }).join(cap, on='date')\n",
    "        cf[cc] = _df['gen'] / _df['cap']\n",
    "        if cf[cc].max() > 1:\n",
    "            print(f\"Too high values for {technology} in {cc}\")\n",
    "            #cf[cc] = NaN  # Store anyway\n",
    "    out_filepath = f\"../data/intermediate/CF {technology}{(' ' + category) if (category == 'forecast') else ''}.csv\"\n",
    "    cf.dropna(1, how='all').to_csv(out_filepath)\n",
    "    print(f\"Wrote {out_filepath}\")"
   ]
  },
  {
   "cell_type": "code",
   "execution_count": 119,
   "metadata": {},
   "outputs": [
    {
     "name": "stdout",
     "output_type": "stream",
     "text": [
      "Too high values for Solar in IT\n",
      "Too high values for Solar in PT\n",
      "Wrote ../data/intermediate/CF Solar.csv\n",
      "Wrote ../data/intermediate/CF Wind Onshore.csv\n",
      "Wrote ../data/intermediate/CF Wind Offshore.csv\n"
     ]
    }
   ],
   "source": [
    "for tech in GEN_TYPES:\n",
    "    calc_cf('generation', tech, installed_capacity)"
   ]
  },
  {
   "cell_type": "markdown",
   "metadata": {},
   "source": [
    "Try using installed capacity from ENTSO-E for selected regions and techs."
   ]
  },
  {
   "cell_type": "code",
   "execution_count": 120,
   "metadata": {},
   "outputs": [
    {
     "name": "stdout",
     "output_type": "stream",
     "text": [
      "Too high values for Solar in IT\n",
      "Too high values for Solar in PT\n",
      "Wrote ../data/intermediate/CF Solar.csv\n",
      "Wrote ../data/intermediate/CF Wind Onshore.csv\n",
      "Wrote ../data/intermediate/CF Wind Offshore.csv\n"
     ]
    }
   ],
   "source": [
    "df = installed_capacity.copy()\n",
    "for col in [('Solar', 'IT'), \n",
    "            ('Solar', 'PT')]:\n",
    "    df[col] = installed_capacity_entsoe[col]\n",
    "for tech in GEN_TYPES:\n",
    "    calc_cf('generation', tech, df)"
   ]
  },
  {
   "cell_type": "markdown",
   "metadata": {},
   "source": [
    "Try using installed capacity from Eurostat for selected regions and techs."
   ]
  },
  {
   "cell_type": "code",
   "execution_count": 121,
   "metadata": {},
   "outputs": [
    {
     "name": "stdout",
     "output_type": "stream",
     "text": [
      "Wrote ../data/intermediate/CF Solar.csv\n",
      "Wrote ../data/intermediate/CF Wind Onshore.csv\n",
      "Wrote ../data/intermediate/CF Wind Offshore.csv\n"
     ]
    }
   ],
   "source": [
    "df = installed_capacity.copy()\n",
    "for col in [('Solar', 'IT'), \n",
    "            ('Solar', 'PT')]:\n",
    "    df[col] = installed_capacity_eurostat[col]\n",
    "for tech in GEN_TYPES:\n",
    "    calc_cf('generation', tech, df)"
   ]
  },
  {
   "cell_type": "code",
   "execution_count": 122,
   "metadata": {},
   "outputs": [
    {
     "name": "stdout",
     "output_type": "stream",
     "text": [
      "Too high values for Solar in PT\n",
      "Wrote ../data/intermediate/CF Solar forecast.csv\n",
      "Too high values for Wind Onshore in NL\n",
      "Too high values for Wind Onshore in SE\n",
      "Wrote ../data/intermediate/CF Wind Onshore forecast.csv\n",
      "Too high values for Wind Offshore in BE\n",
      "Wrote ../data/intermediate/CF Wind Offshore forecast.csv\n"
     ]
    }
   ],
   "source": [
    "for tech in GEN_TYPES:\n",
    "    calc_cf('forecast', tech, installed_capacity)"
   ]
  },
  {
   "cell_type": "markdown",
   "metadata": {},
   "source": [
    "Try using installed capacity from ENTSO-E for selected regions and techs."
   ]
  },
  {
   "cell_type": "code",
   "execution_count": 123,
   "metadata": {},
   "outputs": [
    {
     "name": "stdout",
     "output_type": "stream",
     "text": [
      "Too high values for Solar in PT\n",
      "Wrote ../data/intermediate/CF Solar forecast.csv\n",
      "Too high values for Wind Onshore in NL\n",
      "Too high values for Wind Onshore in SE\n",
      "Wrote ../data/intermediate/CF Wind Onshore forecast.csv\n",
      "Wrote ../data/intermediate/CF Wind Offshore forecast.csv\n"
     ]
    }
   ],
   "source": [
    "df = installed_capacity.copy()\n",
    "for col in [('Solar', 'PT'), \n",
    "            ('Wind Onshore', 'NL'), \n",
    "            ('Wind Onshore', 'SE'),\n",
    "            ('Wind Offshore', 'BE')]:\n",
    "    df[col] = installed_capacity_entsoe[col]\n",
    "for tech in GEN_TYPES:\n",
    "    calc_cf('forecast', tech, df)"
   ]
  },
  {
   "cell_type": "markdown",
   "metadata": {},
   "source": [
    "Try using installed capacity from Eurostat for selected regions and techs."
   ]
  },
  {
   "cell_type": "code",
   "execution_count": 124,
   "metadata": {},
   "outputs": [
    {
     "name": "stdout",
     "output_type": "stream",
     "text": [
      "Wrote ../data/intermediate/CF Solar forecast.csv\n",
      "Too high values for Wind Onshore in NL\n",
      "Too high values for Wind Onshore in SE\n",
      "Wrote ../data/intermediate/CF Wind Onshore forecast.csv\n",
      "Too high values for Wind Offshore in BE\n",
      "Wrote ../data/intermediate/CF Wind Offshore forecast.csv\n"
     ]
    }
   ],
   "source": [
    "df = installed_capacity.copy()\n",
    "for col in [('Solar', 'PT'), \n",
    "            ('Wind Onshore', 'NL'), \n",
    "            ('Wind Onshore', 'SE'),\n",
    "            ('Wind Offshore', 'BE')]:\n",
    "    df[col] = installed_capacity_eurostat[col]\n",
    "for tech in GEN_TYPES:\n",
    "    calc_cf('forecast', tech, df)"
   ]
  },
  {
   "cell_type": "markdown",
   "metadata": {},
   "source": [
    "## Data from other sources"
   ]
  },
  {
   "cell_type": "code",
   "execution_count": 134,
   "metadata": {},
   "outputs": [],
   "source": [
    "from src.data_cleaning import expand_to_full_length\n",
    "from src.misc import load_intermediate_data, save_intermediate_data"
   ]
  },
  {
   "cell_type": "markdown",
   "metadata": {},
   "source": [
    "Load onshore wind generation and forecast time series for Hydro Quebec."
   ]
  },
  {
   "cell_type": "code",
   "execution_count": 135,
   "metadata": {},
   "outputs": [
    {
     "data": {
      "image/png": "[encoded data removed]",
      "text/plain": [
       "<Figure size 432x288 with 1 Axes>"
      ]
     },
     "metadata": {
      "needs_background": "light"
     },
     "output_type": "display_data"
    }
   ],
   "source": [
    "_df = pd.read_excel('../data/external/TASK-25 2018 wind production and load_Quebec.xlsx', \n",
    "                                       usecols='A,C,D', skiprows=range(12), index_col=0)\n",
    "_df.index = pd.to_datetime(_df.index, format='%d%b%Y:%H:%M:%S', utc=True)\n",
    "_df.columns = ['realized', 'forecast']\n",
    "cf_wind_onshore_quebeck = _df.copy()\n",
    "cf_wind_onshore_quebeck['realized'].plot();"
   ]
  },
  {
   "cell_type": "code",
   "execution_count": 136,
   "metadata": {},
   "outputs": [],
   "source": [
    "cf_wind_onshore = load_intermediate_data('CF Wind Onshore')\n",
    "cf_wind_onshore['CA-QC'] = cf_wind_onshore_quebeck['realized']\n",
    "save_intermediate_data(cf_wind_onshore, 'CF Wind Onshore')"
   ]
  },
  {
   "cell_type": "code",
   "execution_count": 137,
   "metadata": {},
   "outputs": [],
   "source": [
    "cf_wind_onshore_fcast = load_intermediate_data('CF Wind Onshore forecast')\n",
    "cf_wind_onshore_fcast['CA-QC'] = cf_wind_onshore_quebeck['forecast']\n",
    "save_intermediate_data(cf_wind_onshore_fcast, 'CF Wind Onshore forecast')"
   ]
  }
 ],
 "metadata": {
  "kernelspec": {
   "display_name": "Python [conda env:windtask25-timeseries]",
   "language": "python",
   "name": "conda-env-windtask25-timeseries-py"
  },
  "language_info": {
   "codemirror_mode": {
    "name": "ipython",
    "version": 3
   },
   "file_extension": ".py",
   "mimetype": "text/x-python",
   "name": "python",
   "nbconvert_exporter": "python",
   "pygments_lexer": "ipython3",
   "version": "3.8.5"
  }
 },
 "nbformat": 4,
 "nbformat_minor": 4
}
