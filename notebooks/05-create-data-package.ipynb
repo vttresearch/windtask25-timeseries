{
 "cells": [
  {
   "cell_type": "code",
   "execution_count": 27,
   "metadata": {},
   "outputs": [],
   "source": [
    "from glob import glob\n",
    "import os\n",
    "from pathlib import Path\n",
    "from datetime import datetime\n",
    "\n",
    "from frictionless import Package\n",
    "import pandas as pd"
   ]
  },
  {
   "cell_type": "code",
   "execution_count": 30,
   "metadata": {},
   "outputs": [],
   "source": [
    "# Get definitions\n",
    "%run \"00-definitions.ipynb\""
   ]
  },
  {
   "cell_type": "markdown",
   "metadata": {},
   "source": [
    "Merge csv files into one Excel workbook"
   ]
  },
  {
   "cell_type": "code",
   "execution_count": 4,
   "metadata": {},
   "outputs": [],
   "source": [
    "with pd.ExcelWriter('../data/processed/Task25data.xlsx') as excel:\n",
    "    for csvfile in glob('../data/processed/*.csv'):\n",
    "        varname = os.path.split(csvfile)[1]\n",
    "        (pd.read_csv(csvfile, index_col=0, parse_dates=True)\n",
    "           .tz_localize(None)\n",
    "           .to_excel(excel, sheet_name=varname, na_rep=''))"
   ]
  },
  {
   "cell_type": "markdown",
   "metadata": {},
   "source": [
    "## Create a data package\n",
    "\n",
    "First, infer the format of data files on disk."
   ]
  },
  {
   "cell_type": "code",
   "execution_count": 6,
   "metadata": {},
   "outputs": [],
   "source": [
    "package = Package(basepath='../data/processed')\n",
    "package.infer(['*.csv', '*.xlsx'])"
   ]
  },
  {
   "cell_type": "markdown",
   "metadata": {},
   "source": [
    "Change all `'any'` fields to numeric data type."
   ]
  },
  {
   "cell_type": "code",
   "execution_count": 7,
   "metadata": {},
   "outputs": [],
   "source": [
    "for resource in package.resources:\n",
    "    for field in resource.schema.fields:\n",
    "        if field.type == 'any':\n",
    "            field.type = 'number'"
   ]
  },
  {
   "cell_type": "markdown",
   "metadata": {},
   "source": [
    "Remove some unnecessary keys:"
   ]
  },
  {
   "cell_type": "code",
   "execution_count": 22,
   "metadata": {},
   "outputs": [],
   "source": [
    "for res in package.resources:\n",
    "    for key in ['control', 'dialect']:\n",
    "        if key in res.keys():\n",
    "            del res[key]"
   ]
  },
  {
   "cell_type": "markdown",
   "metadata": {},
   "source": [
    "### Add package metadata"
   ]
  },
  {
   "cell_type": "code",
   "execution_count": 54,
   "metadata": {},
   "outputs": [],
   "source": [
    "package['name'] = \"windtask25-timeseries-database\"\n",
    "package['title'] = \"Time series database of IEA Wind Task 25\"\n",
    "package['version'] = \"2018\"\n",
    "package['homepage'] = \"https://community.ieawind.org/task25/home\""
   ]
  },
  {
   "cell_type": "code",
   "execution_count": 63,
   "metadata": {},
   "outputs": [],
   "source": [
    "package['description'] = (\n",
    "    \"Realised and forecast values for wind and solar photovoltaic generation and \"\n",
    "    \"electrical load. All CF values are in p.u. and load is share of maximum load during year. \"\n",
    "    \"All times in UTC.\"\n",
    ")"
   ]
  },
  {
   "cell_type": "code",
   "execution_count": 56,
   "metadata": {},
   "outputs": [],
   "source": [
    "package['sources'] = [\n",
    "    {'title': 'ENTSO-E Transparency Platform',\n",
    "     'path': \"https://transparency.entsoe.eu/\"},\n",
    "    {'title': 'WindEurope'},\n",
    "    {'title': \"Eurostat (2020), 'Electricity production capacities by main fuel groups and operator'\",\n",
    "     'path': \"https://ec.europa.eu/eurostat/data\"},\n",
    "    {'title': \"REN\"},\n",
    "    {'title': \"Netztransparenz.de\",\n",
    "     'path': \"https://www.netztransparenz.de/EEG/Marktpraemie/Online-Hochrechnung-Wind-Onshore\"},\n",
    "    {'title': \"Hydro Quebec\"},\n",
    "    {'title': \"ERCOT\"},\n",
    "    {'title': \"Svenska kraftnät\"}\n",
    "]"
   ]
  },
  {
   "cell_type": "code",
   "execution_count": 57,
   "metadata": {},
   "outputs": [],
   "source": [
    "package['contributors'] = [{\n",
    "    \"title\": \"Erkka Rinne\",\n",
    "    \"email\": \"erkka.rinne@vtt.fi\",\n",
    "    \"role\": \"author\"\n",
    "}]"
   ]
  },
  {
   "cell_type": "code",
   "execution_count": 58,
   "metadata": {},
   "outputs": [],
   "source": [
    "package['created'] = f\"{datetime.utcnow().isoformat()}Z\""
   ]
  },
  {
   "cell_type": "code",
   "execution_count": 59,
   "metadata": {},
   "outputs": [],
   "source": [
    "package['keywords'] = [\n",
    "        \"energy\",\n",
    "        \"wind power\",\n",
    "        \"solar photovoltaics\",\n",
    "        \"IEA Wind Task 25\"\n",
    "]"
   ]
  },
  {
   "cell_type": "code",
   "execution_count": 60,
   "metadata": {},
   "outputs": [],
   "source": [
    "package['temporal'] = {\n",
    "    \"start\": START,\n",
    "    \"end\": END,\n",
    "    \"resolution\": \"15, 30 or 60 min depending on area\"\n",
    "}"
   ]
  },
  {
   "cell_type": "code",
   "execution_count": 61,
   "metadata": {},
   "outputs": [],
   "source": [
    "package['spatial'] = {\n",
    "    \"name\": \"IEA Wind Task 25 members\",\n",
    "    \"location\": \", \".join(AREAS.keys())\n",
    "}"
   ]
  },
  {
   "cell_type": "code",
   "execution_count": 64,
   "metadata": {},
   "outputs": [],
   "source": [
    "package.to_json(os.path.join(package.basepath, 'datapackage.json'))"
   ]
  },
  {
   "cell_type": "code",
   "execution_count": null,
   "metadata": {},
   "outputs": [],
   "source": []
  }
 ],
 "metadata": {
  "kernelspec": {
   "display_name": "Python [conda env:windtask25-timeseries]",
   "language": "python",
   "name": "conda-env-windtask25-timeseries-py"
  },
  "language_info": {
   "codemirror_mode": {
    "name": "ipython",
    "version": 3
   },
   "file_extension": ".py",
   "mimetype": "text/x-python",
   "name": "python",
   "nbconvert_exporter": "python",
   "pygments_lexer": "ipython3",
   "version": "3.8.5"
  }
 },
 "nbformat": 4,
 "nbformat_minor": 4
}
