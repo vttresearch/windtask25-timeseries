{
 "cells": [
  {
   "cell_type": "code",
   "execution_count": 1,
   "metadata": {},
   "outputs": [],
   "source": [
    "from glob import glob\n",
    "import os\n",
    "from pathlib import Path\n",
    "from datetime import datetime\n",
    "\n",
    "from frictionless import Package\n",
    "import pandas as pd"
   ]
  },
  {
   "cell_type": "code",
   "execution_count": 2,
   "metadata": {},
   "outputs": [],
   "source": [
    "# Get definitions\n",
    "%run \"00-definitions.ipynb\""
   ]
  },
  {
   "cell_type": "markdown",
   "metadata": {},
   "source": [
    "Merge csv files into one Excel workbook"
   ]
  },
  {
   "cell_type": "code",
   "execution_count": 3,
   "metadata": {},
   "outputs": [],
   "source": [
    "with pd.ExcelWriter('../data/processed/Task25data.xlsx') as excel:\n",
    "    for csvfile in glob('../data/processed/*.csv'):\n",
    "        varname = os.path.split(csvfile)[1]\n",
    "        (pd.read_csv(csvfile, index_col=0, parse_dates=True)\n",
    "           .tz_localize(None)\n",
    "           .to_excel(excel, sheet_name=varname, na_rep=''))"
   ]
  },
  {
   "cell_type": "markdown",
   "metadata": {},
   "source": [
    "## Create a data package\n",
    "\n",
    "First, infer the format of data files on disk."
   ]
  },
  {
   "cell_type": "code",
   "execution_count": 4,
   "metadata": {},
   "outputs": [],
   "source": [
    "package = Package(basepath='../data/processed')"
   ]
  },
  {
   "cell_type": "markdown",
   "metadata": {},
   "source": [
    "### Add package metadata"
   ]
  },
  {
   "cell_type": "code",
   "execution_count": 5,
   "metadata": {},
   "outputs": [],
   "source": [
    "package['name'] = \"windtask25-timeseries-database\"\n",
    "package['title'] = \"Time series database of IEA Wind Task 25\"\n",
    "package['version'] = \"2018.0\"\n",
    "package['homepage'] = \"https://community.ieawind.org/task25/home\"\n",
    "package['created'] = f\"{datetime.utcnow().isoformat()}Z\""
   ]
  },
  {
   "cell_type": "code",
   "execution_count": 6,
   "metadata": {},
   "outputs": [],
   "source": [
    "package['description'] = (\n",
    "    \"Realised and forecast values for wind and solar photovoltaic generation and \"\n",
    "    \"electrical load. All CF values are in p.u. and load is share of maximum load during year. \"\n",
    "    \"All times in UTC.\"\n",
    ")"
   ]
  },
  {
   "cell_type": "code",
   "execution_count": 7,
   "metadata": {},
   "outputs": [],
   "source": [
    "package['sources'] = [\n",
    "    {'title': 'ENTSO-E Transparency Platform',\n",
    "     'path': \"https://transparency.entsoe.eu/\"},\n",
    "    {'title': \"Fraile, Daniel, and Ariola Mbistrova. 2018. 'Wind in Power 2017. \"\n",
    "              \"Annual Combined Onshore and Offshore Wind Energy Statistics.' \"\n",
    "              \"Edited by Iván Pineda and Pierre Tardieu. WindEurope.\",\n",
    "     'path': \"https://windeurope.org/wp-content/uploads/files/about-wind/statistics/WindEurope-Annual-Statistics-2017.pdf\"},\n",
    "     {'title': \"Komusanac, Ivan, Daniel Fraile, and Guy Brindley. 2019. \"\n",
    "               \"'Wind Energy in Europe in 2018. Trends and Statistics.' \"\n",
    "               \"Edited by Colin Walsh and Ivan Pineda. WindEurope. \",\n",
    "     'path': \"https://windeurope.org/wp-content/uploads/files/about-wind/statistics/WindEurope-Annual-Statistics-2018.pdf\"},\n",
    "    {'title': \"Eurostat (2020), 'Electricity production capacities by main fuel groups and operator'\",\n",
    "     'path': \"https://ec.europa.eu/eurostat/data\"},\n",
    "    {'title': \"REN\",\n",
    "     'email': \"antonio.couto@lneg.pt\"},\n",
    "    {'title': \"Netztransparenz.de\",\n",
    "     'path': \"https://www.netztransparenz.de/EEG/Marktpraemie/Online-Hochrechnung-Wind-Onshore\",\n",
    "     'email': \"jan.dobschinski@iee.fraunhofer.de\"},\n",
    "    {'title': \"Hydro Quebec\",\n",
    "     'email': \"Menemenlis.Nickie@ireq.ca\"},\n",
    "    {'title': \"ERCOT\",\n",
    "     'email': \"kate.doubleday@nrel.gov\"},\n",
    "    {'title': \"Svenska kraftnät. 2020. 'Statistik per elområde och timme 2018'\",\n",
    "     'path': \"https://www.svk.se/om-kraftsystemet/kraftsystemdata/elstatistik/\"},\n",
    "    {'title': \"Energiateollisuus. 2019. 'Sähkön tuntidata 2018'\",\n",
    "     'path': \"https://energia.fi/uutishuone/materiaalipankki/sahkon_tuntidata.html\"},\n",
    "    {'title': \"Noregs vassdrags- og energidirektorat. Vindkraftdata\",\n",
    "     'path': \"https://www.nve.no/energiforsyning/kraftproduksjon/vindkraft/vindkraftdata/\"}\n",
    "]"
   ]
  },
  {
   "cell_type": "code",
   "execution_count": 8,
   "metadata": {},
   "outputs": [],
   "source": [
    "package['contributors'] = [{\n",
    "    \"title\": \"Erkka Rinne\",\n",
    "    \"email\": \"erkka.rinne@vtt.fi\",\n",
    "    \"organization\": \"VTT, Finland\",\n",
    "    \"role\": \"author\"\n",
    "},{\n",
    "  \"title\": \"Hannele Holttinen\",\n",
    "  \"email\": \"hannele.holttinen@recognis.fi\",\n",
    "  \"role\": \"contributor\"\n",
    "}]"
   ]
  },
  {
   "cell_type": "code",
   "execution_count": 9,
   "metadata": {},
   "outputs": [],
   "source": [
    "package['keywords'] = [\n",
    "        \"energy\",\n",
    "        \"electricity\"\n",
    "        \"wind power\",\n",
    "        \"solar photovoltaics\",\n",
    "        \"actual generation\",\n",
    "        \"forecast\"\n",
    "        \"IEA Wind Task 25\"\n",
    "]"
   ]
  },
  {
   "cell_type": "code",
   "execution_count": 10,
   "metadata": {},
   "outputs": [],
   "source": [
    "package['temporal'] = {\n",
    "    \"start\": START,\n",
    "    \"end\": END,\n",
    "    \"resolution\": \"15, 30 or 60 min depending on area\"\n",
    "}"
   ]
  },
  {
   "cell_type": "code",
   "execution_count": 11,
   "metadata": {},
   "outputs": [],
   "source": [
    "package['spatial'] = {\n",
    "    \"name\": \"IEA Wind Task 25 member countries\",\n",
    "    \"location\": \", \".join(AREAS.keys())\n",
    "}"
   ]
  },
  {
   "cell_type": "markdown",
   "metadata": {},
   "source": [
    "### Infer package resources"
   ]
  },
  {
   "cell_type": "code",
   "execution_count": 12,
   "metadata": {},
   "outputs": [],
   "source": [
    "package.infer(['*.csv', '*.xlsx'])"
   ]
  },
  {
   "cell_type": "markdown",
   "metadata": {},
   "source": [
    "Change all `'any'` fields to numeric data type."
   ]
  },
  {
   "cell_type": "code",
   "execution_count": 13,
   "metadata": {},
   "outputs": [],
   "source": [
    "for resource in package.resources:\n",
    "    for field in resource.schema.fields:\n",
    "        if field.type == 'any':\n",
    "            field.type = 'number'"
   ]
  },
  {
   "cell_type": "markdown",
   "metadata": {},
   "source": [
    "Remove some unnecessary keys:"
   ]
  },
  {
   "cell_type": "code",
   "execution_count": 14,
   "metadata": {},
   "outputs": [],
   "source": [
    "for res in package.resources:\n",
    "    for key in ['control', 'dialect', 'compression', 'compressionPath', 'query', 'scheme', 'stats', 'hashing', 'schema']:\n",
    "        if key in res.keys():\n",
    "            del res[key]"
   ]
  },
  {
   "cell_type": "code",
   "execution_count": 15,
   "metadata": {},
   "outputs": [],
   "source": [
    "for res in package.resources:\n",
    "    res.title = res.path.split('.')[0]\n",
    "    if res.format == 'xlsx':\n",
    "        res.title = \"Combined data\""
   ]
  },
  {
   "cell_type": "markdown",
   "metadata": {},
   "source": [
    "### Write data package descritor"
   ]
  },
  {
   "cell_type": "code",
   "execution_count": 16,
   "metadata": {},
   "outputs": [],
   "source": [
    "package.to_json(os.path.join(package.basepath, 'datapackage.json'))"
   ]
  },
  {
   "cell_type": "code",
   "execution_count": null,
   "metadata": {},
   "outputs": [],
   "source": []
  }
 ],
 "metadata": {
  "kernelspec": {
   "display_name": "Python [conda env:windtask25-timeseries]",
   "language": "python",
   "name": "conda-env-windtask25-timeseries-py"
  },
  "language_info": {
   "codemirror_mode": {
    "name": "ipython",
    "version": 3
   },
   "file_extension": ".py",
   "mimetype": "text/x-python",
   "name": "python",
   "nbconvert_exporter": "python",
   "pygments_lexer": "ipython3",
   "version": "3.8.5"
  }
 },
 "nbformat": 4,
 "nbformat_minor": 4
}
