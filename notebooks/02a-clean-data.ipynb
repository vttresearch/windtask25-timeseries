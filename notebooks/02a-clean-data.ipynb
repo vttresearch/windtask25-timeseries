{
 "cells": [
  {
   "cell_type": "code",
   "execution_count": 18,
   "metadata": {},
   "outputs": [
    {
     "name": "stdout",
     "output_type": "stream",
     "text": [
      "The autoreload extension is already loaded. To reload it, use:\n",
      "  %reload_ext autoreload\n"
     ]
    }
   ],
   "source": [
    "%load_ext autoreload"
   ]
  },
  {
   "cell_type": "code",
   "execution_count": 19,
   "metadata": {},
   "outputs": [],
   "source": [
    "from glob import glob\n",
    "\n",
    "import pandas as pd"
   ]
  },
  {
   "cell_type": "code",
   "execution_count": 20,
   "metadata": {},
   "outputs": [],
   "source": [
    "%autoreload 2\n",
    "\n",
    "from src.data_cleaning import expand_to_full_length, remove_drops, remove_peaks"
   ]
  },
  {
   "cell_type": "markdown",
   "metadata": {},
   "source": [
    "General definitions"
   ]
  },
  {
   "cell_type": "code",
   "execution_count": 21,
   "metadata": {},
   "outputs": [],
   "source": [
    "# Get definitions\n",
    "%run \"00-definitions.ipynb\"\n",
    "\n",
    "MAX_GAP_TO_FILL = 4"
   ]
  },
  {
   "cell_type": "markdown",
   "metadata": {},
   "source": [
    "# Clean raw data"
   ]
  },
  {
   "cell_type": "markdown",
   "metadata": {},
   "source": [
    "Fill in the gaps in the raw generation data by interpolating."
   ]
  },
  {
   "cell_type": "code",
   "execution_count": 22,
   "metadata": {},
   "outputs": [],
   "source": [
    "def clean_data(category: str, technology: str = None):\n",
    "    \"\"\"\n",
    "    Args:\n",
    "        category: category of data, one of 'generation', 'load', etc.\n",
    "        technology\n",
    "    \"\"\"\n",
    "    \n",
    "    entso_e_raw_filename = f\"../data/raw/ENTSO-E_TP/ENTSO-E_TP_{category}{('_' + technology) if technology else ''}.csv\"\n",
    "    other_raw_filename_pattern = f\"../data/raw/others/*_{category}{('_' + technology) if technology else ''}.csv\"\n",
    "    intermediate_filename = f\"../data/intermediate/{category.capitalize()}{(' ' + technology) if technology else ''}.csv\"\n",
    "    statistics_filename = f\"../data/intermediate/Statistics {category}{(' ' + technology) if technology else ''}.csv\"\n",
    "    \n",
    "    # load ENTSO-E data\n",
    "    print(f\"Reading file {entso_e_raw_filename}...\")\n",
    "    raw_data = pd.read_csv(entso_e_raw_filename, \n",
    "                           index_col=0, parse_dates=True)\n",
    "    \n",
    "    # Load data from other sources and merge\n",
    "    for other_src_path in glob(other_raw_filename_pattern):\n",
    "        print(f\"Reading file {other_src_path}...\")\n",
    "        other_source = pd.read_csv(other_src_path, \n",
    "                                   index_col=0, parse_dates=True)\n",
    "        for col, ts in other_source.iteritems(): \n",
    "            raw_data[col] = ts\n",
    "\n",
    "    stats = pd.DataFrame()\n",
    "    cleaned_data = (raw_data.apply(expand_to_full_length, stats=stats, \n",
    "                              start=START, end=END, tzone=TZ,\n",
    "                              max_gap=MAX_GAP_TO_FILL, min_timestep=MIN_TIMESTEP)\n",
    "                            .apply(remove_drops, stats_df=stats)\n",
    "                            .apply(remove_peaks, stats_df=stats)\n",
    "                   )\n",
    "\n",
    "    # Write to disk\n",
    "    cleaned_data.to_csv(intermediate_filename)\n",
    "    print(f'Wrote {intermediate_filename}')\n",
    "    stats.to_csv(statistics_filename)\n",
    "    print(f'Wrote {statistics_filename}')"
   ]
  },
  {
   "cell_type": "code",
   "execution_count": 23,
   "metadata": {},
   "outputs": [
    {
     "name": "stdout",
     "output_type": "stream",
     "text": [
      "Reading file ../data/raw/ENTSO-E_TP/ENTSO-E_TP_generation_Solar.csv...\n",
      "Reading file ../data/raw/others\\SVK_generation_Solar.csv...\n",
      "Filling gaps for ES. . .\n",
      "Filling gaps for FR. . .\n",
      "Filling gaps for GB. . .\n",
      "Filling gaps for IT. . .\n",
      "Filling gaps for NL. . .\n",
      "Filling gaps for SE. . .\n"
     ]
    },
    {
     "name": "stderr",
     "output_type": "stream",
     "text": [
      "C:\\Users\\ERERKKA\\Miniconda3\\envs\\windtask25-timeseries\\lib\\site-packages\\scipy\\stats\\stats.py:2497: RuntimeWarning: Mean of empty slice.\n",
      "  mns = a.mean(axis=axis, keepdims=True)\n",
      "C:\\Users\\ERERKKA\\Miniconda3\\envs\\windtask25-timeseries\\lib\\site-packages\\numpy\\core\\_methods.py:162: RuntimeWarning: invalid value encountered in true_divide\n",
      "  ret = um.true_divide(\n",
      "C:\\Users\\ERERKKA\\Miniconda3\\envs\\windtask25-timeseries\\lib\\site-packages\\numpy\\core\\_methods.py:233: RuntimeWarning: Degrees of freedom <= 0 for slice\n",
      "  ret = _var(a, axis=axis, dtype=dtype, out=out, ddof=ddof,\n",
      "C:\\Users\\ERERKKA\\Miniconda3\\envs\\windtask25-timeseries\\lib\\site-packages\\numpy\\core\\_methods.py:194: RuntimeWarning: invalid value encountered in true_divide\n",
      "  arrmean = um.true_divide(\n",
      "C:\\Users\\ERERKKA\\Miniconda3\\envs\\windtask25-timeseries\\lib\\site-packages\\numpy\\core\\_methods.py:223: RuntimeWarning: invalid value encountered in true_divide\n",
      "  ret = um.true_divide(\n"
     ]
    },
    {
     "name": "stdout",
     "output_type": "stream",
     "text": [
      "Wrote ../data/intermediate/Generation Solar.csv\n",
      "Wrote ../data/intermediate/Statistics generation Solar.csv\n",
      "Reading file ../data/raw/ENTSO-E_TP/ENTSO-E_TP_generation_Wind Onshore.csv...\n",
      "Reading file ../data/raw/others\\Energiateollisuus_generation_Wind Onshore.csv...\n",
      "Reading file ../data/raw/others\\ERCOT_generation_Wind Onshore.csv...\n",
      "Reading file ../data/raw/others\\NVE_generation_Wind Onshore.csv...\n",
      "Reading file ../data/raw/others\\REN_generation_Wind Onshore.csv...\n",
      "Reading file ../data/raw/others\\SVK_generation_Wind Onshore.csv...\n",
      "Filling gaps for ES. . .\n",
      "Filling gaps for FI. . .\n",
      "Filling gaps for FR. . .\n",
      "Filling gaps for GB. . .\n",
      "Filling gaps for GB-NIR. . .\n",
      "Filling gaps for IE. . .\n",
      "Filling gaps for IT. . .\n",
      "Filling gaps for NL. . .\n",
      "Filling gaps for PT. . .\n",
      "Filling gaps for SE. . .\n",
      "Filling gaps for US-TX. . .\n",
      "Wrote ../data/intermediate/Generation Wind Onshore.csv\n",
      "Wrote ../data/intermediate/Statistics generation Wind Onshore.csv\n",
      "Reading file ../data/raw/ENTSO-E_TP/ENTSO-E_TP_generation_Wind Offshore.csv...\n",
      "Filling gaps for ES. . .\n",
      "Filling gaps for GB. . .\n",
      "Filling gaps for NL. . .\n"
     ]
    },
    {
     "name": "stderr",
     "output_type": "stream",
     "text": [
      "C:\\Users\\ERERKKA\\Miniconda3\\envs\\windtask25-timeseries\\lib\\site-packages\\scipy\\stats\\stats.py:2500: RuntimeWarning: invalid value encountered in true_divide\n",
      "  return (a - mns) / sstd\n"
     ]
    },
    {
     "name": "stdout",
     "output_type": "stream",
     "text": [
      "Wrote ../data/intermediate/Generation Wind Offshore.csv\n",
      "Wrote ../data/intermediate/Statistics generation Wind Offshore.csv\n"
     ]
    }
   ],
   "source": [
    "for tech in GEN_TYPES:\n",
    "    clean_data('generation', tech)"
   ]
  },
  {
   "cell_type": "markdown",
   "metadata": {},
   "source": [
    "Fill in gaps in the raw load data by interpolating."
   ]
  },
  {
   "cell_type": "code",
   "execution_count": 24,
   "metadata": {},
   "outputs": [
    {
     "name": "stdout",
     "output_type": "stream",
     "text": [
      "Reading file ../data/raw/ENTSO-E_TP/ENTSO-E_TP_load.csv...\n",
      "Filling gaps for DE. . .\n",
      "Filling gaps for ES. . .\n",
      "Filling gaps for FI. . .\n",
      "Filling gaps for FR. . .\n",
      "Filling gaps for GB. . .\n",
      "Filling gaps for GB-NIR. . .\n",
      "Filling gaps for IE. . .\n",
      "Filling gaps for NO. . .\n",
      "Wrote ../data/intermediate/Load.csv\n",
      "Wrote ../data/intermediate/Statistics load.csv\n",
      "Reading file ../data/raw/ENTSO-E_TP/ENTSO-E_TP_load_forecast.csv...\n",
      "Filling gaps for DE. . .\n",
      "Filling gaps for GB-NIR. . .\n",
      "Filling gaps for IE. . .\n",
      "Filling gaps for NO. . .\n",
      "Wrote ../data/intermediate/Load_forecast.csv\n",
      "Wrote ../data/intermediate/Statistics load_forecast.csv\n"
     ]
    }
   ],
   "source": [
    "clean_data('load')\n",
    "clean_data('load_forecast')"
   ]
  },
  {
   "cell_type": "code",
   "execution_count": 25,
   "metadata": {},
   "outputs": [
    {
     "name": "stdout",
     "output_type": "stream",
     "text": [
      "Reading file ../data/raw/ENTSO-E_TP/ENTSO-E_TP_forecast_Solar.csv...\n",
      "Filling gaps for DE. . .\n",
      "Filling gaps for FR. . .\n",
      "Filling gaps for NL. . .\n",
      "Filling gaps for NO. . .\n",
      "Filling gaps for PT. . .\n",
      "Wrote ../data/intermediate/Forecast Solar.csv\n",
      "Wrote ../data/intermediate/Statistics forecast Solar.csv\n",
      "Reading file ../data/raw/ENTSO-E_TP/ENTSO-E_TP_forecast_Wind Onshore.csv...\n",
      "Filling gaps for DE. . .\n",
      "Filling gaps for FI. . .\n",
      "Filling gaps for FR. . .\n",
      "Filling gaps for GB-NIR. . .\n",
      "Filling gaps for IE. . .\n",
      "Filling gaps for NL. . .\n",
      "Filling gaps for NO. . .\n",
      "Filling gaps for PT. . .\n",
      "Filling gaps for SE. . .\n",
      "Wrote ../data/intermediate/Forecast Wind Onshore.csv\n",
      "Wrote ../data/intermediate/Statistics forecast Wind Onshore.csv\n",
      "Reading file ../data/raw/ENTSO-E_TP/ENTSO-E_TP_forecast_Wind Offshore.csv...\n",
      "Filling gaps for NL. . .\n",
      "Filling gaps for NO. . .\n",
      "Wrote ../data/intermediate/Forecast Wind Offshore.csv\n",
      "Wrote ../data/intermediate/Statistics forecast Wind Offshore.csv\n"
     ]
    }
   ],
   "source": [
    "for tech in GEN_TYPES:\n",
    "    clean_data('forecast', tech)"
   ]
  },
  {
   "cell_type": "code",
   "execution_count": null,
   "metadata": {},
   "outputs": [],
   "source": []
  }
 ],
 "metadata": {
  "kernelspec": {
   "display_name": "Python [conda env:windtask25-timeseries]",
   "language": "python",
   "name": "conda-env-windtask25-timeseries-py"
  },
  "language_info": {
   "codemirror_mode": {
    "name": "ipython",
    "version": 3
   },
   "file_extension": ".py",
   "mimetype": "text/x-python",
   "name": "python",
   "nbconvert_exporter": "python",
   "pygments_lexer": "ipython3",
   "version": "3.8.5"
  }
 },
 "nbformat": 4,
 "nbformat_minor": 4
}
