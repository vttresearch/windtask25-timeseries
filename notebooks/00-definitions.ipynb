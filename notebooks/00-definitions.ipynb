{
 "cells": [
  {
   "cell_type": "code",
   "execution_count": null,
   "metadata": {},
   "outputs": [],
   "source": [
    "# Time zone to use\n",
    "TZ = 'UTC'\n",
    "\n",
    "# Start and end dates\n",
    "START = \"2018-01-01\"\n",
    "END = \"2019-01-01\"\n",
    "\n",
    "AREAS = {\n",
    "  # Task 25 countries in Europe\n",
    " 'Denmark': 'DK',\n",
    " 'Finland': 'FI',\n",
    " 'France': 'FR',\n",
    " 'Germany': 'DE',\n",
    " 'Great Britain': 'GB',\n",
    " 'Ireland': 'IE',\n",
    " 'Italy': 'IT',\n",
    " 'Netherlands': 'NL',\n",
    " 'Northern Ireland': 'GB-NIR',\n",
    " 'Norway': 'NO',\n",
    " 'Portugal': 'PT',\n",
    " 'Spain': 'ES',\n",
    " 'Sweden': 'SE',\n",
    " # Others\n",
    " 'Austria': 'AT',\n",
    " 'Belgium': 'BE'\n",
    "}\n",
    "\n",
    "GEN_TYPES = [\"Solar\", \"Wind Onshore\", \"Wind Offshore\"]\n",
    "\n",
    "MIN_TIMESTEP = '15 min'\n"
   ]
  }
 ],
 "metadata": {
  "kernelspec": {
   "display_name": "Python [conda env:windtask25-timeseries]",
   "language": "python",
   "name": "conda-env-windtask25-timeseries-py"
  },
  "language_info": {
   "codemirror_mode": {
    "name": "ipython",
    "version": 3
   },
   "file_extension": ".py",
   "mimetype": "text/x-python",
   "name": "python",
   "nbconvert_exporter": "python",
   "pygments_lexer": "ipython3",
   "version": "3.8.1"
  }
 },
 "nbformat": 4,
 "nbformat_minor": 4
}
