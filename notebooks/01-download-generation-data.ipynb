{
 "cells": [
  {
   "cell_type": "code",
   "execution_count": 3,
   "metadata": {},
   "outputs": [],
   "source": [
    "import os\n",
    "from multiprocessing.dummy import Pool\n",
    "from typing import Callable\n",
    "\n",
    "import pandas as pd\n",
    "from entsoe import EntsoePandasClient\n",
    "from entsoe.mappings import PSRTYPE_MAPPINGS\n",
    "from entsoe.exceptions import NoMatchingDataError\n",
    "from pycountry import countries\n",
    "from dotenv import load_dotenv\n",
    "\n",
    "from const import TZ, START, END, COUNTRIES, GEN_TYPES"
   ]
  },
  {
   "cell_type": "markdown",
   "metadata": {},
   "source": [
    "## General definitions"
   ]
  },
  {
   "cell_type": "code",
   "execution_count": 4,
   "metadata": {},
   "outputs": [],
   "source": [
    "# Load environment setting (API key)\n",
    "load_dotenv()\n",
    "\n",
    "# Create client to ENTSO-E TP\n",
    "client = EntsoePandasClient(api_key=os.getenv(\"ENTSOE_APIKEY\"))\n",
    "\n",
    "# Invert the psr mapping so that we can get psr types by textual gen. types\n",
    "inverted_psr_mapping = {value: key for key, value in PSRTYPE_MAPPINGS.items()}\n",
    "\n",
    "# Get the two-letter country code for this country\n",
    "try:\n",
    "    country_codes = [countries.get(name=country).alpha_2 for country in COUNTRIES]\n",
    "except AttributeError:\n",
    "    raise KeyError(country)"
   ]
  },
  {
   "cell_type": "markdown",
   "metadata": {},
   "source": [
    "Define a function for downloading the needed data in parallel."
   ]
  },
  {
   "cell_type": "code",
   "execution_count": 5,
   "metadata": {},
   "outputs": [],
   "source": [
    "def download_parallel(function: Callable, arguments, \n",
    "                      n_threads=1,\n",
    "                      index_name=None, columns_name=None) -> pd.DataFrame:\n",
    "    \"\"\"Download data using a defined function\n",
    "    \n",
    "    Args:\n",
    "        function: The query function to use, must return a pandas Series\n",
    "        arguments: List of tuples to pass as arguments to `function`\n",
    "        n_threads: Number of threads to use\n",
    "        index_name (optional): Name for index\n",
    "        columns_name (optional): Name(s) for the columns\n",
    "    \"\"\"\n",
    "    try:\n",
    "        with Pool(n_threads) as p:\n",
    "            series = p.starmap(function, arguments)\n",
    "    except ConnectionError:\n",
    "        raise\n",
    "    df = pd.concat(series, axis=1)\n",
    "    if index_name is not None:\n",
    "        df.index.name = index_name\n",
    "    if columns_name is not None:\n",
    "        df.columns.names = columns_name\n",
    "    return df.sort_index(0).sort_index(1)"
   ]
  },
  {
   "cell_type": "code",
   "execution_count": 14,
   "metadata": {},
   "outputs": [],
   "source": [
    "def harmonize_datetime_index(ts: pd.Series) -> pd.Series:\n",
    "    \"\"\"Aux. function to make sure we have real timestamps in UTC\"\"\"\n",
    "    return pd.Series(ts.values, \n",
    "                     index=pd.DatetimeIndex(ts.index, name=\"timestamp\").tz_convert(\"UTC\"))"
   ]
  },
  {
   "cell_type": "markdown",
   "metadata": {},
   "source": [
    "## Actual generation"
   ]
  },
  {
   "cell_type": "markdown",
   "metadata": {},
   "source": [
    "Define functions for querying the ENTSO-E Tranparency Platform API."
   ]
  },
  {
   "cell_type": "code",
   "execution_count": 10,
   "metadata": {},
   "outputs": [],
   "source": [
    "def get_gen_data(country_code: str, gentype: str) -> pd.Series:\n",
    "    \"\"\"Query generation data for country and generation type\n",
    "    \"\"\" \n",
    "    # Execute the query\n",
    "    ts = pd.Series(name=(country_code, gentype)).tz_localize('UTC')\n",
    "    try:\n",
    "        ts = client.query_generation(\n",
    "            country_code, \n",
    "            start=pd.Timestamp(START, tz=TZ), \n",
    "            end=pd.Timestamp(END, tz=TZ), \n",
    "            psr_type=inverted_psr_mapping[gentype]\n",
    "        )[gentype]  # Select the only column\n",
    "    except NoMatchingDataError:\n",
    "        print(f\"No data for {gentype} in {country_code}!\")\n",
    "    except ValueError:\n",
    "        print(f\"Error getting data for {gentype} in {country_code}!\")\n",
    "    else:\n",
    "        # Make sure we have real timestamps in UTC\n",
    "        ts = harmonize_datetime_index(ts)\n",
    "        ts.name = (country_code, gentype)\n",
    "    return ts.sort_index()"
   ]
  },
  {
   "cell_type": "markdown",
   "metadata": {},
   "source": [
    "Download data for all generation types using four threads and store in the raw data folder."
   ]
  },
  {
   "cell_type": "code",
   "execution_count": 6,
   "metadata": {},
   "outputs": [
    {
     "name": "stdout",
     "output_type": "stream",
     "text": [
      "Wrote ../data/raw/ENTSO-E_TP_generation_Solar.csv\n",
      "Wrote ../data/raw/ENTSO-E_TP_generation_Wind Onshore.csv\n",
      "Wrote ../data/raw/ENTSO-E_TP_generation_Wind Offshore.csv\n"
     ]
    }
   ],
   "source": [
    "for gt in GEN_TYPES:\n",
    "    idx = pd.MultiIndex.from_product([country_codes, [gt]])\n",
    "    df = download_parallel(get_gen_data, idx, n_threads=4)\n",
    "    filename = f\"../data/raw/ENTSO-E_TP_generation_{gt}.csv\" \n",
    "    df.xs(gt, axis=1, level=1).to_csv(filename, header=True)\n",
    "    print(f\"Wrote {filename}\")"
   ]
  },
  {
   "cell_type": "markdown",
   "metadata": {},
   "source": [
    "## Installed generation capacity"
   ]
  },
  {
   "cell_type": "markdown",
   "metadata": {},
   "source": [
    "Let’s download installed capacities from ENTSO-E"
   ]
  },
  {
   "cell_type": "code",
   "execution_count": 12,
   "metadata": {},
   "outputs": [],
   "source": [
    "def get_installed_cap_data(gentype: str, country_code: str) -> pd.Series:\n",
    "    \"\"\"Query generation data for country and generation type\n",
    "    \"\"\"\n",
    "    # Time series name has the arguments\n",
    "    ts_name = (gentype, country_code)\n",
    "    ts = pd.Series(name=ts_name)    \n",
    "    # Execute the query\n",
    "    try:\n",
    "        ts = client.query_installed_generation_capacity(\n",
    "            country_code, \n",
    "            start=pd.Timestamp(f'{pd.Timestamp(START).year - 1}-01-01'), \n",
    "            end=pd.Timestamp(END), \n",
    "            psr_type=inverted_psr_mapping[gentype]\n",
    "        )[gentype]  # Select the only column\n",
    "    except NoMatchingDataError:\n",
    "        print(f\"No data for {gentype} in {country_code}!\")\n",
    "    else:\n",
    "        ts.index = ts.index.year  # ENTSO-E has numbers for the beginning of the year\n",
    "        ts.index.name = 'Year'\n",
    "        ts.name = ts_name\n",
    "    return ts"
   ]
  },
  {
   "cell_type": "code",
   "execution_count": 13,
   "metadata": {},
   "outputs": [
    {
     "name": "stdout",
     "output_type": "stream",
     "text": [
      "Wrote ../data/raw/ENTSO-E_TP_generation_Wind Offshore.csv\n"
     ]
    }
   ],
   "source": [
    "idx = pd.MultiIndex.from_product([GEN_TYPES, country_codes])\n",
    "df = download_parallel(get_installed_cap_data, idx, n_threads=4)\n",
    "df.T.to_csv(\"../data/raw/ENTSO-E_TP_installed_cap.csv\", header=True)\n",
    "print(f\"Wrote {filename}\")"
   ]
  },
  {
   "cell_type": "markdown",
   "metadata": {},
   "source": [
    "## Actual load"
   ]
  },
  {
   "cell_type": "markdown",
   "metadata": {},
   "source": [
    "Let’s define a fucntion to query the load."
   ]
  },
  {
   "cell_type": "code",
   "execution_count": 15,
   "metadata": {},
   "outputs": [],
   "source": [
    "def get_load_data(country_code: str) -> pd.Series:\n",
    "    \"\"\"Query generation data for country and generation type\n",
    "    \"\"\"       \n",
    "    # Execute the query\n",
    "    ts = pd.Series(name=(country_code, gentype)).tz_localize('UTC')\n",
    "    try:\n",
    "        ts = client.query_load(\n",
    "            country_code, \n",
    "            start=pd.Timestamp(START, tz=TZ), \n",
    "            end=pd.Timestamp(END, tz=TZ), \n",
    "            ) # Select the only column\n",
    "    except NoMatchingDataError:\n",
    "        print(f\"No data for {country_code}!\")\n",
    "    except ValueError:\n",
    "        print(f\"Error getting data for {country_code}!\")\n",
    "    else:\n",
    "        ts = harmonize_datetime_index(ts)\n",
    "        ts.name = country_code\n",
    "    return ts.sort_index()"
   ]
  },
  {
   "cell_type": "code",
   "execution_count": 16,
   "metadata": {},
   "outputs": [
    {
     "name": "stdout",
     "output_type": "stream",
     "text": [
      "Wrote ../data/raw/ENTSO-E_TP_load.csv\n"
     ]
    }
   ],
   "source": [
    "df = download_parallel(get_load_data, [(cc,) for cc in country_codes], n_threads=4)\n",
    "filename = f\"../data/raw/ENTSO-E_TP_load.csv\" \n",
    "df.to_csv(filename, header=True)\n",
    "print(f\"Wrote {filename}\")"
   ]
  },
  {
   "cell_type": "markdown",
   "metadata": {},
   "source": [
    "## Generation forecast"
   ]
  },
  {
   "cell_type": "code",
   "execution_count": 15,
   "metadata": {},
   "outputs": [],
   "source": [
    "def get_fcast_data(country_code: str, gentype: str) -> pd.Series:\n",
    "    \"\"\"Query generation data for country and generation type\n",
    "    \"\"\"       \n",
    "    # Execute the query\n",
    "    ts = pd.Series(name=(country_code, gentype)).tz_localize('UTC')\n",
    "    try:\n",
    "        ts = client.query_wind_and_solar_forecast(\n",
    "            country_code, \n",
    "            start=pd.Timestamp(START, tz=TZ), \n",
    "            end=pd.Timestamp(END, tz=TZ), \n",
    "            psr_type=inverted_psr_mapping[gentype]\n",
    "        )[gentype]  # Select the only column\n",
    "    except NoMatchingDataError:\n",
    "        print(f\"No data for {gentype} in {country_code}!\")\n",
    "    except ValueError:\n",
    "        print(f\"Error getting forecast data for {gentype} in {country_code}!\")\n",
    "    else:\n",
    "        ts = harmonize_datetime_index(ts)\n",
    "        ts.name = (country_code, gentype)\n",
    "    return ts.sort_index()"
   ]
  },
  {
   "cell_type": "markdown",
   "metadata": {},
   "source": [
    "Download data for all generation types using four threads and store in the raw data folder."
   ]
  },
  {
   "cell_type": "code",
   "execution_count": 16,
   "metadata": {},
   "outputs": [
    {
     "name": "stdout",
     "output_type": "stream",
     "text": [
      "No data for Solar in FI!\n",
      "No data for Solar in IE!\n",
      "No data for Solar in IT!\n",
      "No data for Solar in SE!\n",
      "Wrote ../data/raw/ENTSO-E_TP_forecast_Solar.csv\n",
      "No data for Wind Onshore in IT!\n",
      "Wrote ../data/raw/ENTSO-E_TP_forecast_Wind Onshore.csv\n",
      "No data for Wind Offshore in FI!\n",
      "No data for Wind Offshore in FR!\n",
      "No data for Wind Offshore in IE!\n",
      "No data for Wind Offshore in IT!\n",
      "No data for Wind Offshore in PT!\n",
      "No data for Wind Offshore in ES!\n",
      "No data for Wind Offshore in SE!\n",
      "No data for Wind Offshore in AT!\n",
      "Wrote ../data/raw/ENTSO-E_TP_forecast_Wind Offshore.csv\n"
     ]
    }
   ],
   "source": [
    "for gt in GEN_TYPES:\n",
    "    idx = pd.MultiIndex.from_product([country_codes, [gt]])\n",
    "    df = download_parallel(get_fcast_data, idx, n_threads=4)\n",
    "    filename = f\"../data/raw/ENTSO-E_TP_forecast_{gt}.csv\" \n",
    "    df.xs(gt, axis=1, level=1).to_csv(filename, header=True)\n",
    "    print(f\"Wrote {filename}\")"
   ]
  },
  {
   "cell_type": "code",
   "execution_count": null,
   "metadata": {},
   "outputs": [],
   "source": []
  }
 ],
 "metadata": {
  "kernelspec": {
   "display_name": "Python [conda env:spyder]",
   "language": "python",
   "name": "conda-env-spyder-py"
  },
  "language_info": {
   "codemirror_mode": {
    "name": "ipython",
    "version": 3
   },
   "file_extension": ".py",
   "mimetype": "text/x-python",
   "name": "python",
   "nbconvert_exporter": "python",
   "pygments_lexer": "ipython3",
   "version": "3.7.3"
  }
 },
 "nbformat": 4,
 "nbformat_minor": 4
}
