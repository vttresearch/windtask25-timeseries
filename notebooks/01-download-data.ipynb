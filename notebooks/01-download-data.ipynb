{
 "cells": [
  {
   "cell_type": "code",
   "execution_count": 2,
   "metadata": {},
   "outputs": [],
   "source": [
    "import os\n",
    "from pprint import pprint\n",
    "\n",
    "import pandas as pd\n",
    "from entsoe import EntsoePandasClient\n",
    "from pycountry import countries\n",
    "from dotenv import load_dotenv\n",
    "\n",
    "%load_ext autoreload\n",
    "%autoreload 2\n",
    "\n",
    "from src.entsoe_tp import ENTSO_E_TP_Downloader, download_parallel"
   ]
  },
  {
   "cell_type": "markdown",
   "metadata": {},
   "source": [
    "## General definitions"
   ]
  },
  {
   "cell_type": "code",
   "execution_count": 3,
   "metadata": {},
   "outputs": [
    {
     "data": {
      "text/plain": [
       "Denmark                 DK\n",
       "Finland                 FI\n",
       "France                  FR\n",
       "Germany                 DE\n",
       "Great Britain           GB\n",
       "Ireland                 IE\n",
       "Italy                   IT\n",
       "Netherlands             NL\n",
       "Northern Ireland    GB-NIR\n",
       "Norway                  NO\n",
       "Portugal                PT\n",
       "Spain                   ES\n",
       "Sweden                  SE\n",
       "Austria                 AT\n",
       "Belgium                 BE\n",
       "dtype: object"
      ]
     },
     "execution_count": 3,
     "metadata": {},
     "output_type": "execute_result"
    }
   ],
   "source": [
    "# Load environment setting (API key)\n",
    "load_dotenv()\n",
    "\n",
    "# Create client to ENTSO-E TP\n",
    "entsoe_tp = ENTSO_E_TP_Downloader(os.getenv(\"ENTSOE_APIKEY\"))\n",
    "\n",
    "# Get the two-letter country code for this country\n",
    "#try:\n",
    "#    country_codes = [countries.get(name=country).alpha_2 for country in COUNTRIES]\n",
    "#except AttributeError:\n",
    "#    raise KeyError(country)\n",
    "\n",
    "# Get definitions\n",
    "%run \"00-definitions.ipynb\"\n",
    "\n",
    "# Get domain codes as list\n",
    "domains = list(AREAS.values())\n",
    "pd.Series(AREAS)"
   ]
  },
  {
   "cell_type": "markdown",
   "metadata": {},
   "source": [
    "## Actual generation"
   ]
  },
  {
   "cell_type": "markdown",
   "metadata": {},
   "source": [
    "Download data for all generation types using four threads and store in the raw data folder."
   ]
  },
  {
   "cell_type": "code",
   "execution_count": 5,
   "metadata": {},
   "outputs": [
    {
     "name": "stdout",
     "output_type": "stream",
     "text": [
      "NoMatchingDataError: between 2018-01-01 00:00:00+00:00 and 2019-01-01 00:00:00+00:00\n",
      "No data for Solar in FI!\n",
      "NoMatchingDataError: between 2018-01-01 00:00:00+00:00 and 2019-01-01 00:00:00+00:00\n",
      "No data for Solar in IE!\n",
      "NoMatchingDataError: between 2018-01-01 00:00:00+00:00 and 2019-01-01 00:00:00+00:00\n",
      "No data for Solar in GB-NIR!\n",
      "NoMatchingDataError: between 2018-01-01 00:00:00+00:00 and 2019-01-01 00:00:00+00:00\n",
      "No data for Solar in NO!\n",
      "NoMatchingDataError: between 2018-01-01 00:00:00+00:00 and 2019-01-01 00:00:00+00:00\n",
      "No data for Solar in SE!\n",
      "Wrote ../data/raw/ENTSO-E_TP_generation_Solar.csv\n",
      "Wrote ../data/raw/ENTSO-E_TP_generation_Wind Onshore.csv\n",
      "NoMatchingDataError: between 2018-01-01 00:00:00+00:00 and 2019-01-01 00:00:00+00:00\n",
      "No data for Wind Offshore in FR!\n",
      "NoMatchingDataError: between 2018-01-01 00:00:00+00:00 and 2019-01-01 00:00:00+00:00\n",
      "No data for Wind Offshore in FI!\n",
      "NoMatchingDataError: between 2018-01-01 00:00:00+00:00 and 2019-01-01 00:00:00+00:00\n",
      "No data for Wind Offshore in IT!\n",
      "NoMatchingDataError: between 2018-01-01 00:00:00+00:00 and 2019-01-01 00:00:00+00:00\n",
      "No data for Wind Offshore in IE!\n",
      "NoMatchingDataError: between 2018-01-01 00:00:00+00:00 and 2019-01-01 00:00:00+00:00\n",
      "No data for Wind Offshore in GB-NIR!\n",
      "NoMatchingDataError: between 2018-01-01 00:00:00+00:00 and 2019-01-01 00:00:00+00:00\n",
      "No data for Wind Offshore in NO!\n",
      "NoMatchingDataError: between 2018-01-01 00:00:00+00:00 and 2019-01-01 00:00:00+00:00\n",
      "No data for Wind Offshore in PT!\n",
      "NoMatchingDataError: between 2018-01-01 00:00:00+00:00 and 2019-01-01 00:00:00+00:00\n",
      "No data for Wind Offshore in SE!\n",
      "NoMatchingDataError: between 2018-01-01 00:00:00+00:00 and 2019-01-01 00:00:00+00:00\n",
      "No data for Wind Offshore in AT!\n",
      "Error getting data for Wind Offshore in BE!\n",
      "Wrote ../data/raw/ENTSO-E_TP_generation_Wind Offshore.csv\n"
     ]
    }
   ],
   "source": [
    "for gt in GEN_TYPES:\n",
    "    idx = pd.MultiIndex.from_product([domains, [gt]])\n",
    "    df = download_parallel(entsoe_tp.get_gen_data, idx, n_threads=2)\n",
    "    filename = f\"../data/raw/ENTSO-E_TP_generation_{gt}.csv\" \n",
    "    df.xs(gt, axis=1, level=1).to_csv(filename, header=True)\n",
    "    print(f\"Wrote {filename}\")"
   ]
  },
  {
   "cell_type": "markdown",
   "metadata": {},
   "source": [
    "## Installed generation capacity"
   ]
  },
  {
   "cell_type": "markdown",
   "metadata": {},
   "source": [
    "Let’s download installed capacities from ENTSO-E"
   ]
  },
  {
   "cell_type": "code",
   "execution_count": 12,
   "metadata": {},
   "outputs": [
    {
     "name": "stdout",
     "output_type": "stream",
     "text": [
      "NoMatchingDataError: between 2018-01-01 00:00:00+02:00 and 2019-01-01 00:00:00+02:00\n",
      "NoMatchingDataError: between 2018-01-01 00:00:00+01:00 and 2019-01-01 00:00:00+01:00\n",
      "NoMatchingDataError: between 2019-01-01 00:00:00+01:00 and 2019-12-31 00:00:00+01:00\n",
      "No data for Solar in NO!\n",
      "NoMatchingDataError: between 2018-01-01 00:00:00+00:00 and 2019-01-01 00:00:00+00:00\n",
      "NoMatchingDataError: between 2019-01-01 00:00:00+00:00 and 2019-12-31 00:00:00+00:00\n",
      "No data for Solar in IE!\n",
      "NoMatchingDataError: between 2018-01-01 00:00:00+01:00 and 2019-01-01 00:00:00+01:00\n",
      "NoMatchingDataError: between 2019-01-01 00:00:00+01:00 and 2019-12-31 00:00:00+01:00\n",
      "No data for Solar in SE!\n",
      "NoMatchingDataError: between 2018-01-01 00:00:00+02:00 and 2019-01-01 00:00:00+02:00\n",
      "NoMatchingDataError: between 2019-01-01 00:00:00+02:00 and 2019-12-31 00:00:00+02:00\n",
      "No data for Wind Offshore in FI!\n",
      "NoMatchingDataError: between 2018-01-01 00:00:00+00:00 and 2019-01-01 00:00:00+00:00\n",
      "NoMatchingDataError: between 2019-01-01 00:00:00+00:00 and 2019-12-31 00:00:00+00:00\n",
      "No data for Wind Offshore in IE!\n",
      "NoMatchingDataError: between 2018-01-01 00:00:00+01:00 and 2019-01-01 00:00:00+01:00\n",
      "NoMatchingDataError: between 2018-01-01 00:00:00+00:00 and 2019-01-01 00:00:00+00:00\n",
      "NoMatchingDataError: between 2019-01-01 00:00:00+01:00 and 2019-12-31 00:00:00+01:00\n",
      "No data for Wind Offshore in SE!\n",
      "NoMatchingDataError: between 2019-01-01 00:00:00+00:00 and 2019-12-31 00:00:00+00:00\n",
      "No data for Wind Offshore in GB-NIR!\n",
      "NoMatchingDataError: between 2018-01-01 00:00:00+01:00 and 2019-01-01 00:00:00+01:00\n",
      "NoMatchingDataError: between 2019-01-01 00:00:00+01:00 and 2019-12-31 00:00:00+01:00\n",
      "No data for Wind Offshore in NO!\n",
      "Wrote ../data/raw/ENTSO-E_TP_installed_cap.csv\n"
     ]
    }
   ],
   "source": [
    "idx = pd.MultiIndex.from_product([GEN_TYPES, domains])\n",
    "df = download_parallel(entsoe_tp.get_installed_cap_data, idx, n_threads=2)\n",
    "filename = \"../data/raw/ENTSO-E_TP_installed_cap.csv\"\n",
    "df.T.to_csv(filename, header=True)\n",
    "print(f\"Wrote {filename}\")"
   ]
  },
  {
   "cell_type": "markdown",
   "metadata": {},
   "source": [
    "## Actual load"
   ]
  },
  {
   "cell_type": "code",
   "execution_count": 16,
   "metadata": {},
   "outputs": [
    {
     "name": "stdout",
     "output_type": "stream",
     "text": [
      "Wrote ../data/raw/ENTSO-E_TP_load.csv\n"
     ]
    }
   ],
   "source": [
    "df = download_parallel(entsoe_tp.get_load_data, [(d,) for d in domains], n_threads=2)\n",
    "filename = f\"../data/raw/ENTSO-E_TP_load.csv\" \n",
    "df.to_csv(filename, header=True)\n",
    "print(f\"Wrote {filename}\")"
   ]
  },
  {
   "cell_type": "markdown",
   "metadata": {},
   "source": [
    "## Generation forecast"
   ]
  },
  {
   "cell_type": "markdown",
   "metadata": {},
   "source": [
    "Download data for all generation types using four threads and store in the raw data folder."
   ]
  },
  {
   "cell_type": "code",
   "execution_count": 4,
   "metadata": {},
   "outputs": [
    {
     "name": "stdout",
     "output_type": "stream",
     "text": [
      "NoMatchingDataError: between 2018-01-01 00:00:00+00:00 and 2019-01-01 00:00:00+00:00\n",
      "No data for Solar in FI!\n",
      "NoMatchingDataError: between 2018-01-01 00:00:00+00:00 and 2019-01-01 00:00:00+00:00\n",
      "No data for Solar in IE!\n",
      "NoMatchingDataError: between 2018-01-01 00:00:00+00:00 and 2019-01-01 00:00:00+00:00\n",
      "No data for Solar in IT!\n",
      "NoMatchingDataError: between 2018-01-01 00:00:00+00:00 and 2019-01-01 00:00:00+00:00\n",
      "No data for Solar in GB-NIR!\n",
      "NoMatchingDataError: between 2018-01-01 00:00:00+00:00 and 2019-01-01 00:00:00+00:00\n",
      "No data for Solar in SE!\n",
      "Wrote ../data/raw/ENTSO-E_TP_forecast_Solar.csv\n",
      "NoMatchingDataError: between 2018-01-01 00:00:00+00:00 and 2019-01-01 00:00:00+00:00\n",
      "No data for Wind Onshore in IT!\n",
      "Wrote ../data/raw/ENTSO-E_TP_forecast_Wind Onshore.csv\n",
      "NoMatchingDataError: between 2018-01-01 00:00:00+00:00 and 2019-01-01 00:00:00+00:00\n",
      "No data for Wind Offshore in FR!\n",
      "NoMatchingDataError: between 2018-01-01 00:00:00+00:00 and 2019-01-01 00:00:00+00:00\n",
      "No data for Wind Offshore in FI!\n",
      "NoMatchingDataError: between 2018-01-01 00:00:00+00:00 and 2019-01-01 00:00:00+00:00\n",
      "No data for Wind Offshore in IT!\n",
      "NoMatchingDataError: between 2018-01-01 00:00:00+00:00 and 2019-01-01 00:00:00+00:00\n",
      "No data for Wind Offshore in IE!\n",
      "NoMatchingDataError: between 2018-01-01 00:00:00+00:00 and 2019-01-01 00:00:00+00:00\n",
      "No data for Wind Offshore in GB-NIR!\n",
      "NoMatchingDataError: between 2018-01-01 00:00:00+00:00 and 2019-01-01 00:00:00+00:00\n",
      "No data for Wind Offshore in PT!\n",
      "NoMatchingDataError: between 2018-01-01 00:00:00+00:00 and 2019-01-01 00:00:00+00:00\n",
      "No data for Wind Offshore in ES!\n",
      "NoMatchingDataError: between 2018-01-01 00:00:00+00:00 and 2019-01-01 00:00:00+00:00\n",
      "No data for Wind Offshore in SE!\n",
      "NoMatchingDataError: between 2018-01-01 00:00:00+00:00 and 2019-01-01 00:00:00+00:00\n",
      "No data for Wind Offshore in AT!\n",
      "Wrote ../data/raw/ENTSO-E_TP_forecast_Wind Offshore.csv\n"
     ]
    }
   ],
   "source": [
    "for gt in GEN_TYPES:\n",
    "    idx = pd.MultiIndex.from_product([domains, [gt]])\n",
    "    df = download_parallel(entsoe_tp.get_fcast_data, idx, n_threads=2)\n",
    "    filename = f\"../data/raw/ENTSO-E_TP_forecast_{gt}.csv\" \n",
    "    df.xs(gt, axis=1, level=1).to_csv(filename, header=True)\n",
    "    print(f\"Wrote {filename}\")"
   ]
  },
  {
   "cell_type": "code",
   "execution_count": null,
   "metadata": {},
   "outputs": [],
   "source": []
  }
 ],
 "metadata": {
  "kernelspec": {
   "display_name": "Python [conda env:windtask25-timeseries]",
   "language": "python",
   "name": "conda-env-windtask25-timeseries-py"
  },
  "language_info": {
   "codemirror_mode": {
    "name": "ipython",
    "version": 3
   },
   "file_extension": ".py",
   "mimetype": "text/x-python",
   "name": "python",
   "nbconvert_exporter": "python",
   "pygments_lexer": "ipython3",
   "version": "3.8.1"
  }
 },
 "nbformat": 4,
 "nbformat_minor": 4
}
